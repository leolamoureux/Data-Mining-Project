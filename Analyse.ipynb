{
 "cells": [
  {
   "cell_type": "code",
   "execution_count": 106,
   "metadata": {},
   "outputs": [],
   "source": [
    "import pandas as pd\n",
    "import numpy as np"
   ]
  },
  {
   "cell_type": "code",
   "execution_count": 107,
   "metadata": {},
   "outputs": [
    {
     "data": {
      "text/html": [
       "<div>\n",
       "<style scoped>\n",
       "    .dataframe tbody tr th:only-of-type {\n",
       "        vertical-align: middle;\n",
       "    }\n",
       "\n",
       "    .dataframe tbody tr th {\n",
       "        vertical-align: top;\n",
       "    }\n",
       "\n",
       "    .dataframe thead th {\n",
       "        text-align: right;\n",
       "    }\n",
       "</style>\n",
       "<table border=\"1\" class=\"dataframe\">\n",
       "  <thead>\n",
       "    <tr style=\"text-align: right;\">\n",
       "      <th></th>\n",
       "      <th>article</th>\n",
       "      <th>summary</th>\n",
       "      <th>topic</th>\n",
       "    </tr>\n",
       "  </thead>\n",
       "  <tbody>\n",
       "    <tr>\n",
       "      <th>0</th>\n",
       "      <td>['musician', 'tackle', 'u', 'red', 'tape', 'mu...</td>\n",
       "      <td>['nigel', 'mccune', 'musician', 'union', 'said...</td>\n",
       "      <td>NaN</td>\n",
       "    </tr>\n",
       "    <tr>\n",
       "      <th>1</th>\n",
       "      <td>['u2s', 'desire', 'number', 'one', 'u2', 'thre...</td>\n",
       "      <td>['still', 'want', 'morethey', 'want', 'biggest...</td>\n",
       "      <td>entertainment</td>\n",
       "    </tr>\n",
       "    <tr>\n",
       "      <th>2</th>\n",
       "      <td>['rocker', 'doherty', 'onstage', 'fight', 'roc...</td>\n",
       "      <td>['babyshambles', 'formed', 'acrimonious', 'dep...</td>\n",
       "      <td>NaN</td>\n",
       "    </tr>\n",
       "    <tr>\n",
       "      <th>3</th>\n",
       "      <td>['snicket', 'top', 'u', 'box', 'office', 'char...</td>\n",
       "      <td>['series', 'unfortunate', 'event', 'also', 'st...</td>\n",
       "      <td>NaN</td>\n",
       "    </tr>\n",
       "    <tr>\n",
       "      <th>4</th>\n",
       "      <td>['ocean', 'twelve', 'raid', 'box', 'office', '...</td>\n",
       "      <td>['ocean', 'twelve', 'crime', 'caper', 'sequel'...</td>\n",
       "      <td>entertainment</td>\n",
       "    </tr>\n",
       "  </tbody>\n",
       "</table>\n",
       "</div>"
      ],
      "text/plain": [
       "                                             article  \\\n",
       "0  ['musician', 'tackle', 'u', 'red', 'tape', 'mu...   \n",
       "1  ['u2s', 'desire', 'number', 'one', 'u2', 'thre...   \n",
       "2  ['rocker', 'doherty', 'onstage', 'fight', 'roc...   \n",
       "3  ['snicket', 'top', 'u', 'box', 'office', 'char...   \n",
       "4  ['ocean', 'twelve', 'raid', 'box', 'office', '...   \n",
       "\n",
       "                                             summary          topic  \n",
       "0  ['nigel', 'mccune', 'musician', 'union', 'said...            NaN  \n",
       "1  ['still', 'want', 'morethey', 'want', 'biggest...  entertainment  \n",
       "2  ['babyshambles', 'formed', 'acrimonious', 'dep...            NaN  \n",
       "3  ['series', 'unfortunate', 'event', 'also', 'st...            NaN  \n",
       "4  ['ocean', 'twelve', 'crime', 'caper', 'sequel'...  entertainment  "
      ]
     },
     "execution_count": 107,
     "metadata": {},
     "output_type": "execute_result"
    }
   ],
   "source": [
    "df = pd.read_csv(\"preprocessed_df.csv\", encoding = \"ISO-8859-1\")\n",
    "df.head()"
   ]
  },
  {
   "cell_type": "code",
   "execution_count": 108,
   "metadata": {},
   "outputs": [
    {
     "name": "stdout",
     "output_type": "stream",
     "text": [
      "percentage_nan = 76.49%\n"
     ]
    }
   ],
   "source": [
    "# get the number of NaN values in the topic column\n",
    "num_nan = df['topic'].isna().sum()\n",
    "\n",
    "# calculate the percentage of NaN values\n",
    "percentage_nan = (num_nan / len(df)) * 100\n",
    "print(f\"percentage_nan = {percentage_nan:.2f}%\")"
   ]
  },
  {
   "cell_type": "code",
   "execution_count": 109,
   "metadata": {},
   "outputs": [
    {
     "name": "stdout",
     "output_type": "stream",
     "text": [
      "business         125\n",
      "sport            121\n",
      "politics          96\n",
      "tech              91\n",
      "entertainment     90\n",
      "Name: topic, dtype: int64\n"
     ]
    }
   ],
   "source": [
    "print(df[\"topic\"].value_counts())"
   ]
  },
  {
   "cell_type": "code",
   "execution_count": 110,
   "metadata": {},
   "outputs": [
    {
     "name": "stderr",
     "output_type": "stream",
     "text": [
      "[nltk_data] Downloading package stopwords to\n",
      "[nltk_data]     /Users/leolamoureux/nltk_data...\n",
      "[nltk_data]   Package stopwords is already up-to-date!\n",
      "[nltk_data] Downloading package wordnet to\n",
      "[nltk_data]     /Users/leolamoureux/nltk_data...\n",
      "[nltk_data]   Package wordnet is already up-to-date!\n"
     ]
    }
   ],
   "source": [
    "# REMOVE PUNCTUATION\n",
    "import string\n",
    "\n",
    "# TOKENIZATION\n",
    "import nltk\n",
    "import nltk.corpus\n",
    "from nltk.tokenize import word_tokenize\n",
    "\n",
    "# REMOVE STOP WORDS\n",
    "nltk.download('stopwords')\n",
    "from nltk.corpus import stopwords\n",
    "stop_words = set(stopwords.words('english'))\n",
    "\n",
    "# LEMMATIZATION\n",
    "import nltk\n",
    "from nltk.stem import WordNetLemmatizer\n",
    "nltk.download('wordnet')\n",
    "\n",
    "df[\"article\"] = df[\"article\"].astype(str)\n",
    "\n",
    "def preprocess(text):\n",
    "    text = str(text) #ensure that it's str like\n",
    "    punctuationfree=\"\".join([i for i in text if i not in string.punctuation])\n",
    "    tokenized_text = word_tokenize(punctuationfree)\n",
    "    no_stop_words = [w for w in tokenized_text if not w in stop_words]\n",
    "    lemmatized_text = [WordNetLemmatizer().lemmatize(w) for w in no_stop_words]\n",
    "\n",
    "    return lemmatized_text"
   ]
  },
  {
   "cell_type": "code",
   "execution_count": 111,
   "metadata": {},
   "outputs": [
    {
     "name": "stderr",
     "output_type": "stream",
     "text": [
      "/opt/homebrew/lib/python3.10/site-packages/sklearn/cluster/_kmeans.py:870: FutureWarning: The default value of `n_init` will change from 10 to 'auto' in 1.4. Set the value of `n_init` explicitly to suppress the warning\n",
      "  warnings.warn(\n"
     ]
    }
   ],
   "source": [
    "# DATAFRAME LABELISATION WITH KMEANS\n",
    "from sklearn.cluster import KMeans\n",
    "from collections import Counter\n",
    "from sklearn.feature_extraction.text import TfidfVectorizer\n",
    "\n",
    "# remove rows with missing topic\n",
    "df = df[df['topic'].notna()]\n",
    "\n",
    "# vectorize the articles\n",
    "vectorizer = TfidfVectorizer()\n",
    "articles_vectors = vectorizer.fit_transform(df['article'])\n",
    "\n",
    "# perform k-means clustering\n",
    "kmeans = KMeans(n_clusters=5)\n",
    "kmeans.fit(articles_vectors)\n",
    "\n",
    "# find the most common topic for each cluster\n",
    "cluster_topics = []\n",
    "for i in range(5):\n",
    "    topics = df[kmeans.labels_ == i]['topic']\n",
    "    most_common_topic = Counter(topics).most_common(1)[0][0]\n",
    "    cluster_topics.append(most_common_topic)\n",
    "\n",
    "# label the missing topics with the label of the cluster\n",
    "df['cluster_label'] = kmeans.predict(articles_vectors)\n",
    "df['cluster_topic'] = df['cluster_label'].apply(lambda x: cluster_topics[x])\n",
    "df.loc[df['topic'].isna(), 'topic'] = df['cluster_topic']"
   ]
  },
  {
   "cell_type": "code",
   "execution_count": 112,
   "metadata": {},
   "outputs": [
    {
     "name": "stdout",
     "output_type": "stream",
     "text": [
      "percentage_nan = 0.00%\n"
     ]
    }
   ],
   "source": [
    "# get the number of NaN values in the topic column\n",
    "num_nan = df['topic'].isna().sum()\n",
    "\n",
    "# calculate the percentage of NaN values\n",
    "percentage_nan = (num_nan / len(df)) * 100\n",
    "print(f\"percentage_nan = {percentage_nan:.2f}%\")"
   ]
  },
  {
   "cell_type": "code",
   "execution_count": 113,
   "metadata": {},
   "outputs": [
    {
     "name": "stdout",
     "output_type": "stream",
     "text": [
      "Logistic Regression:\n",
      "               precision    recall  f1-score   support\n",
      "\n",
      "     business       0.91      1.00      0.95        21\n",
      "entertainment       1.00      0.96      0.98        27\n",
      "     politics       1.00      0.94      0.97        17\n",
      "        sport       0.95      1.00      0.98        21\n",
      "         tech       1.00      0.95      0.97        19\n",
      "\n",
      "     accuracy                           0.97       105\n",
      "    macro avg       0.97      0.97      0.97       105\n",
      " weighted avg       0.97      0.97      0.97       105\n",
      "\n",
      "Decision Tree:\n",
      "               precision    recall  f1-score   support\n",
      "\n",
      "     business       0.69      0.86      0.77        21\n",
      "entertainment       0.95      0.78      0.86        27\n",
      "     politics       0.60      0.71      0.65        17\n",
      "        sport       0.86      0.86      0.86        21\n",
      "         tech       0.81      0.68      0.74        19\n",
      "\n",
      "     accuracy                           0.78       105\n",
      "    macro avg       0.78      0.78      0.77       105\n",
      " weighted avg       0.80      0.78      0.78       105\n",
      "\n",
      "Random Forest:\n",
      "               precision    recall  f1-score   support\n",
      "\n",
      "     business       0.81      1.00      0.89        21\n",
      "entertainment       0.93      0.93      0.93        27\n",
      "     politics       1.00      0.94      0.97        17\n",
      "        sport       1.00      1.00      1.00        21\n",
      "         tech       0.93      0.74      0.82        19\n",
      "\n",
      "     accuracy                           0.92       105\n",
      "    macro avg       0.93      0.92      0.92       105\n",
      " weighted avg       0.93      0.92      0.92       105\n",
      "\n"
     ]
    }
   ],
   "source": [
    "import pandas as pd\n",
    "from sklearn.linear_model import LogisticRegression\n",
    "from sklearn.model_selection import train_test_split\n",
    "from sklearn.tree import DecisionTreeClassifier\n",
    "from sklearn.ensemble import RandomForestClassifier\n",
    "from sklearn.metrics import accuracy_score, classification_report\n",
    "\n",
    "# load the training and test data into dataframes\n",
    "# extract the feature and target columns\n",
    "\n",
    "X = df[\"article\"]\n",
    "y = df[\"topic\"]\n",
    "\n",
    "# split the dataframe into training and test sets\n",
    "X_train, X_test, y_train, y_test = train_test_split(X, y, test_size=0.2, random_state=42)\n",
    "\n",
    "from sklearn.feature_extraction.text import CountVectorizer\n",
    "\n",
    "# convert the \"article\" column into a bag of words representation\n",
    "vectorizer = CountVectorizer()\n",
    "X_train = vectorizer.fit_transform(X_train)\n",
    "X_test = vectorizer.transform(X_test)\n",
    "\n",
    "# initialize the classifiers\n",
    "logistic_regression = LogisticRegression()\n",
    "decision_tree = DecisionTreeClassifier()\n",
    "random_forest = RandomForestClassifier()\n",
    "\n",
    "# train the classifiers on the training data\n",
    "logistic_regression.fit(X_train, y_train)\n",
    "decision_tree.fit(X_train, y_train)\n",
    "random_forest.fit(X_train, y_train)\n",
    "\n",
    "# make predictions on the test data\n",
    "y_pred_lr = logistic_regression.predict(X_test)\n",
    "y_pred_dt = decision_tree.predict(X_test)\n",
    "y_pred_rf = random_forest.predict(X_test)\n",
    "\n",
    "# evaluate the classifiers' performance\n",
    "print(\"Logistic Regression:\")\n",
    "print(classification_report(y_test, y_pred_lr))\n",
    "print(\"Decision Tree:\")\n",
    "print(classification_report(y_test, y_pred_dt))\n",
    "print(\"Random Forest:\")\n",
    "print(classification_report(y_test, y_pred_rf))"
   ]
  },
  {
   "cell_type": "code",
   "execution_count": 114,
   "metadata": {},
   "outputs": [
    {
     "data": {
      "image/png": "[encoded data removed]",
      "text/plain": [
       "<Figure size 640x480 with 1 Axes>"
      ]
     },
     "metadata": {},
     "output_type": "display_data"
    }
   ],
   "source": [
    "import matplotlib.pyplot as plt\n",
    "\n",
    "classifiers = ['Logistic Regression', 'Decision Tree', 'Random Forest']\n",
    "scores = [accuracy_score(y_test, y_pred_lr), accuracy_score(y_test, y_pred_dt), accuracy_score(y_test, y_pred_rf)]\n",
    "\n",
    "plt.bar(classifiers, scores)\n",
    "plt.ylabel('Accuracy')\n",
    "plt.title(\"Accuracy of Classifiers before parameter tuning\")\n",
    "plt.ylim(0,1) # set the y-axis limit to (0,1)\n",
    "\n",
    "# Add the accuracy percent as text on top of each bar\n",
    "for i, v in enumerate(scores):\n",
    "    plt.text(i-.25, v-.5, str(round(v*100,2))+\"%\", color='black', fontweight='bold')\n",
    "\n",
    "plt.show()"
   ]
  },
  {
   "cell_type": "code",
   "execution_count": 115,
   "metadata": {},
   "outputs": [
    {
     "name": "stderr",
     "output_type": "stream",
     "text": [
      "/opt/homebrew/lib/python3.10/site-packages/sklearn/model_selection/_validation.py:378: FitFailedWarning: \n",
      "20 fits failed out of a total of 40.\n",
      "The score on these train-test partitions for these parameters will be set to nan.\n",
      "If these failures are not expected, you can try to debug them by setting error_score='raise'.\n",
      "\n",
      "Below are more details about the failures:\n",
      "--------------------------------------------------------------------------------\n",
      "20 fits failed with the following error:\n",
      "Traceback (most recent call last):\n",
      "  File \"/opt/homebrew/lib/python3.10/site-packages/sklearn/model_selection/_validation.py\", line 686, in _fit_and_score\n",
      "    estimator.fit(X_train, y_train, **fit_params)\n",
      "  File \"/opt/homebrew/lib/python3.10/site-packages/sklearn/linear_model/_logistic.py\", line 1162, in fit\n",
      "    solver = _check_solver(self.solver, self.penalty, self.dual)\n",
      "  File \"/opt/homebrew/lib/python3.10/site-packages/sklearn/linear_model/_logistic.py\", line 54, in _check_solver\n",
      "    raise ValueError(\n",
      "ValueError: Solver lbfgs supports only 'l2' or 'none' penalties, got l1 penalty.\n",
      "\n",
      "  warnings.warn(some_fits_failed_message, FitFailedWarning)\n",
      "/opt/homebrew/lib/python3.10/site-packages/sklearn/model_selection/_search.py:953: UserWarning: One or more of the test scores are non-finite: [       nan 0.92822719        nan 0.93539874        nan 0.93777969\n",
      "        nan 0.94018933]\n",
      "  warnings.warn(\n"
     ]
    }
   ],
   "source": [
    "from sklearn.model_selection import GridSearchCV\n",
    "\n",
    "# initialize the classifiers\n",
    "logistic_regression = LogisticRegression()\n",
    "decision_tree = DecisionTreeClassifier()\n",
    "random_forest = RandomForestClassifier()\n",
    "\n",
    "# define the parameters to tune\n",
    "param_grid_lr = {'C': [0.1, 1, 10, 100], 'penalty': ['l1', 'l2']}\n",
    "param_grid_dt = {'max_depth': [1, 2, 3, 4, 5, 6, 7, 8, 9, 10]}\n",
    "param_grid_rf = {'n_estimators': [50, 100, 200], 'max_depth': [5, 10, 15, 20]}\n",
    "\n",
    "# tune the parameters with GridSearchCV\n",
    "grid_lr = GridSearchCV(logistic_regression, param_grid_lr, cv=5)\n",
    "grid_dt = GridSearchCV(decision_tree, param_grid_dt, cv=5)\n",
    "grid_rf = GridSearchCV(random_forest, param_grid_rf, cv=5)\n",
    "\n",
    "# train the classifiers on the training data\n",
    "grid_lr.fit(X_train, y_train)\n",
    "grid_dt.fit(X_train, y_train)\n",
    "grid_rf.fit(X_train, y_train)\n",
    "\n",
    "# make predictions on the test data\n",
    "y_pred_lr = grid_lr.predict(X_test)\n",
    "y_pred_dt = grid_dt.predict(X_test)\n",
    "y_pred_rf = grid_rf.predict(X_test)"
   ]
  },
  {
   "cell_type": "code",
   "execution_count": 116,
   "metadata": {},
   "outputs": [
    {
     "data": {
      "image/png": "[encoded data removed]",
      "text/plain": [
       "<Figure size 640x480 with 1 Axes>"
      ]
     },
     "metadata": {},
     "output_type": "display_data"
    }
   ],
   "source": [
    "classifiers = ['Logistic Regression', 'Decision Tree', 'Random Forest']\n",
    "scores = [accuracy_score(y_test, y_pred_lr), accuracy_score(y_test, y_pred_dt), accuracy_score(y_test, y_pred_rf)]\n",
    "\n",
    "plt.bar(classifiers, scores)\n",
    "plt.ylabel('Accuracy')\n",
    "plt.title(\"Accuracy of Classifiers after grid search tuning\")\n",
    "plt.ylim(0,1) # set the y-axis limit to (0,1)\n",
    "\n",
    "# Add the accuracy percent as text on top of each bar\n",
    "for i, v in enumerate(scores):\n",
    "    plt.text(i-.25, v-.5, str(round(v*100,2))+\"%\", color='black', fontweight='bold')\n",
    "\n",
    "plt.show()"
   ]
  },
  {
   "cell_type": "code",
   "execution_count": 117,
   "metadata": {},
   "outputs": [
    {
     "name": "stdout",
     "output_type": "stream",
     "text": [
      "Naive Bayes:\n",
      "               precision    recall  f1-score   support\n",
      "\n",
      "     business       0.91      1.00      0.95        21\n",
      "entertainment       1.00      0.93      0.96        27\n",
      "     politics       0.94      0.94      0.94        17\n",
      "        sport       0.95      0.95      0.95        21\n",
      "         tech       0.95      0.95      0.95        19\n",
      "\n",
      "     accuracy                           0.95       105\n",
      "    macro avg       0.95      0.95      0.95       105\n",
      " weighted avg       0.95      0.95      0.95       105\n",
      "\n",
      "SVM:\n",
      "               precision    recall  f1-score   support\n",
      "\n",
      "     business       0.75      1.00      0.86        21\n",
      "entertainment       0.90      0.67      0.77        27\n",
      "     politics       1.00      0.71      0.83        17\n",
      "        sport       0.77      0.95      0.85        21\n",
      "         tech       0.79      0.79      0.79        19\n",
      "\n",
      "     accuracy                           0.82       105\n",
      "    macro avg       0.84      0.82      0.82       105\n",
      " weighted avg       0.84      0.82      0.82       105\n",
      "\n"
     ]
    }
   ],
   "source": [
    "from sklearn.naive_bayes import MultinomialNB\n",
    "from sklearn.svm import SVC\n",
    "\n",
    "\n",
    "# load the training and test data into dataframes\n",
    "# extract the feature and target columns\n",
    "X = df[\"article\"]\n",
    "y = df[\"topic\"]\n",
    "\n",
    "# split the dataframe into training and test sets\n",
    "X_train, X_test, y_train, y_test = train_test_split(X, y, test_size=0.2, random_state=42)\n",
    "\n",
    "from sklearn.feature_extraction.text import CountVectorizer\n",
    "\n",
    "# convert the \"article\" column into a bag of words representation\n",
    "vectorizer = CountVectorizer()\n",
    "X_train = vectorizer.fit_transform(X_train)\n",
    "X_test = vectorizer.transform(X_test)\n",
    "\n",
    "# initialize the classifiers\n",
    "naive_bayes = MultinomialNB()\n",
    "svm = SVC()\n",
    "\n",
    "\n",
    "# train the classifiers on the training data\n",
    "naive_bayes.fit(X_train, y_train)\n",
    "svm.fit(X_train, y_train)\n",
    "\n",
    "\n",
    "# make predictions on the test data\n",
    "y_pred_nb = naive_bayes.predict(X_test)\n",
    "y_pred_svm = svm.predict(X_test)\n",
    "\n",
    "\n",
    "# evaluate the classifiers' performance\n",
    "print(\"Naive Bayes:\")\n",
    "print(classification_report(y_test, y_pred_nb))\n",
    "print(\"SVM:\")\n",
    "print(classification_report(y_test, y_pred_svm))\n"
   ]
  },
  {
   "cell_type": "code",
   "execution_count": 118,
   "metadata": {},
   "outputs": [
    {
     "data": {
      "image/png": "[encoded data removed]",
      "text/plain": [
       "<Figure size 640x480 with 1 Axes>"
      ]
     },
     "metadata": {},
     "output_type": "display_data"
    }
   ],
   "source": [
    "classifiers = ['Naive Bayes', 'SVM']\n",
    "scores = [accuracy_score(y_test, y_pred_nb), accuracy_score(y_test, y_pred_svm)]\n",
    "\n",
    "plt.bar(classifiers, scores)\n",
    "plt.ylabel('Accuracy')\n",
    "plt.title(\"Accuracy of Classifiers after grid search tuning\")\n",
    "plt.ylim(0,1) # set the y-axis limit to (0,1)\n",
    "\n",
    "# Add the accuracy percent as text on top of each bar\n",
    "for i, v in enumerate(scores):\n",
    "    plt.text(i-.25, v-.5, str(round(v*100,2))+\"%\", color='black', fontweight='bold')\n",
    "\n",
    "plt.show()"
   ]
  }
 ],
 "metadata": {
  "kernelspec": {
   "display_name": "Python 3",
   "language": "python",
   "name": "python3"
  },
  "language_info": {
   "codemirror_mode": {
    "name": "ipython",
    "version": 3
   },
   "file_extension": ".py",
   "mimetype": "text/x-python",
   "name": "python",
   "nbconvert_exporter": "python",
   "pygments_lexer": "ipython3",
   "version": "3.10.8"
  },
  "orig_nbformat": 4,
  "vscode": {
   "interpreter": {
    "hash": "b0fa6594d8f4cbf19f97940f81e996739fb7646882a419484c72d19e05852a7e"
   }
  }
 },
 "nbformat": 4,
 "nbformat_minor": 2
}
