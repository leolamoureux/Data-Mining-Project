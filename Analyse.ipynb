{
 "cells": [
  {
   "cell_type": "code",
   "execution_count": 89,
   "metadata": {},
   "outputs": [],
   "source": [
    "import pandas as pd\n",
    "import numpy as np"
   ]
  },
  {
   "cell_type": "code",
   "execution_count": 95,
   "metadata": {},
   "outputs": [
    {
     "data": {
      "text/html": [
       "<div>\n",
       "<style scoped>\n",
       "    .dataframe tbody tr th:only-of-type {\n",
       "        vertical-align: middle;\n",
       "    }\n",
       "\n",
       "    .dataframe tbody tr th {\n",
       "        vertical-align: top;\n",
       "    }\n",
       "\n",
       "    .dataframe thead th {\n",
       "        text-align: right;\n",
       "    }\n",
       "</style>\n",
       "<table border=\"1\" class=\"dataframe\">\n",
       "  <thead>\n",
       "    <tr style=\"text-align: right;\">\n",
       "      <th></th>\n",
       "      <th>article</th>\n",
       "      <th>summary</th>\n",
       "      <th>topic</th>\n",
       "    </tr>\n",
       "  </thead>\n",
       "  <tbody>\n",
       "    <tr>\n",
       "      <th>0</th>\n",
       "      <td>['musician', 'tackle', 'u', 'red', 'tape', 'mu...</td>\n",
       "      <td>['nigel', 'mccune', 'musician', 'union', 'said...</td>\n",
       "      <td>NaN</td>\n",
       "    </tr>\n",
       "    <tr>\n",
       "      <th>1</th>\n",
       "      <td>['u2s', 'desire', 'number', 'one', 'u2', 'thre...</td>\n",
       "      <td>['still', 'want', 'morethey', 'want', 'biggest...</td>\n",
       "      <td>entertainment</td>\n",
       "    </tr>\n",
       "    <tr>\n",
       "      <th>2</th>\n",
       "      <td>['rocker', 'doherty', 'onstage', 'fight', 'roc...</td>\n",
       "      <td>['babyshambles', 'formed', 'acrimonious', 'dep...</td>\n",
       "      <td>NaN</td>\n",
       "    </tr>\n",
       "    <tr>\n",
       "      <th>3</th>\n",
       "      <td>['snicket', 'top', 'u', 'box', 'office', 'char...</td>\n",
       "      <td>['series', 'unfortunate', 'event', 'also', 'st...</td>\n",
       "      <td>NaN</td>\n",
       "    </tr>\n",
       "    <tr>\n",
       "      <th>4</th>\n",
       "      <td>['ocean', 'twelve', 'raid', 'box', 'office', '...</td>\n",
       "      <td>['ocean', 'twelve', 'crime', 'caper', 'sequel'...</td>\n",
       "      <td>entertainment</td>\n",
       "    </tr>\n",
       "  </tbody>\n",
       "</table>\n",
       "</div>"
      ],
      "text/plain": [
       "                                             article  \\\n",
       "0  ['musician', 'tackle', 'u', 'red', 'tape', 'mu...   \n",
       "1  ['u2s', 'desire', 'number', 'one', 'u2', 'thre...   \n",
       "2  ['rocker', 'doherty', 'onstage', 'fight', 'roc...   \n",
       "3  ['snicket', 'top', 'u', 'box', 'office', 'char...   \n",
       "4  ['ocean', 'twelve', 'raid', 'box', 'office', '...   \n",
       "\n",
       "                                             summary          topic  \n",
       "0  ['nigel', 'mccune', 'musician', 'union', 'said...            NaN  \n",
       "1  ['still', 'want', 'morethey', 'want', 'biggest...  entertainment  \n",
       "2  ['babyshambles', 'formed', 'acrimonious', 'dep...            NaN  \n",
       "3  ['series', 'unfortunate', 'event', 'also', 'st...            NaN  \n",
       "4  ['ocean', 'twelve', 'crime', 'caper', 'sequel'...  entertainment  "
      ]
     },
     "execution_count": 95,
     "metadata": {},
     "output_type": "execute_result"
    }
   ],
   "source": [
    "df = pd.read_csv(\"preprocessed_df.csv\", encoding = \"ISO-8859-1\")\n",
    "df.head()"
   ]
  },
  {
   "cell_type": "code",
   "execution_count": 99,
   "metadata": {},
   "outputs": [
    {
     "name": "stdout",
     "output_type": "stream",
     "text": [
      "percentage_nan = 76.49%\n"
     ]
    }
   ],
   "source": [
    "# get the number of NaN values in the topic column\n",
    "num_nan = df['topic'].isna().sum()\n",
    "\n",
    "# calculate the percentage of NaN values\n",
    "percentage_nan = (num_nan / len(df)) * 100\n",
    "print(f\"percentage_nan = {percentage_nan:.2f}%\")"
   ]
  },
  {
   "cell_type": "code",
   "execution_count": 97,
   "metadata": {},
   "outputs": [
    {
     "name": "stdout",
     "output_type": "stream",
     "text": [
      "business         125\n",
      "sport            121\n",
      "politics          96\n",
      "tech              91\n",
      "entertainment     90\n",
      "Name: topic, dtype: int64\n"
     ]
    }
   ],
   "source": [
    "print(df[\"topic\"].value_counts())"
   ]
  },
  {
   "cell_type": "code",
   "execution_count": 13,
   "metadata": {},
   "outputs": [
    {
     "name": "stderr",
     "output_type": "stream",
     "text": [
      "[nltk_data] Downloading package stopwords to\n",
      "[nltk_data]     /Users/leolamoureux/nltk_data...\n",
      "[nltk_data]   Package stopwords is already up-to-date!\n",
      "[nltk_data] Downloading package wordnet to\n",
      "[nltk_data]     /Users/leolamoureux/nltk_data...\n",
      "[nltk_data]   Package wordnet is already up-to-date!\n"
     ]
    }
   ],
   "source": [
    "# REMOVE PUNCTUATION\n",
    "import string\n",
    "\n",
    "# TOKENIZATION\n",
    "import nltk\n",
    "import nltk.corpus\n",
    "from nltk.tokenize import word_tokenize\n",
    "\n",
    "# REMOVE STOP WORDS\n",
    "nltk.download('stopwords')\n",
    "from nltk.corpus import stopwords\n",
    "stop_words = set(stopwords.words('english'))\n",
    "\n",
    "# LEMMATIZATION\n",
    "import nltk\n",
    "from nltk.stem import WordNetLemmatizer\n",
    "nltk.download('wordnet')\n",
    "\n",
    "df[\"article\"] = df[\"article\"].astype(str)\n",
    "\n",
    "def preprocess(text):\n",
    "    text = str(text) #ensure that it's str like\n",
    "    punctuationfree=\"\".join([i for i in text if i not in string.punctuation])\n",
    "    tokenized_text = word_tokenize(punctuationfree)\n",
    "    no_stop_words = [w for w in tokenized_text if not w in stop_words]\n",
    "    lemmatized_text = [WordNetLemmatizer().lemmatize(w) for w in no_stop_words]\n",
    "\n",
    "    return lemmatized_text"
   ]
  },
  {
   "cell_type": "code",
   "execution_count": 100,
   "metadata": {},
   "outputs": [
    {
     "name": "stderr",
     "output_type": "stream",
     "text": [
      "/opt/homebrew/lib/python3.10/site-packages/sklearn/cluster/_kmeans.py:870: FutureWarning: The default value of `n_init` will change from 10 to 'auto' in 1.4. Set the value of `n_init` explicitly to suppress the warning\n",
      "  warnings.warn(\n"
     ]
    }
   ],
   "source": [
    "# DATAFRAME LABELISATION WITH KMEANS\n",
    "from sklearn.cluster import KMeans\n",
    "from collections import Counter\n",
    "from sklearn.feature_extraction.text import TfidfVectorizer\n",
    "\n",
    "# remove rows with missing topic\n",
    "df = df[df['topic'].notna()]\n",
    "\n",
    "# vectorize the articles\n",
    "vectorizer = TfidfVectorizer()\n",
    "articles_vectors = vectorizer.fit_transform(df['article'])\n",
    "\n",
    "# perform k-means clustering\n",
    "kmeans = KMeans(n_clusters=5)\n",
    "kmeans.fit(articles_vectors)\n",
    "\n",
    "# find the most common topic for each cluster\n",
    "cluster_topics = []\n",
    "for i in range(5):\n",
    "    topics = df[kmeans.labels_ == i]['topic']\n",
    "    most_common_topic = Counter(topics).most_common(1)[0][0]\n",
    "    cluster_topics.append(most_common_topic)\n",
    "\n",
    "# label the missing topics with the label of the cluster\n",
    "df['cluster_label'] = kmeans.predict(articles_vectors)\n",
    "df['cluster_topic'] = df['cluster_label'].apply(lambda x: cluster_topics[x])\n",
    "df.loc[df['topic'].isna(), 'topic'] = df['cluster_topic']\n",
    "\n",
    "# save the updated dataframe\n",
    "df.to_csv(\"articles_updated.csv\", index=False)"
   ]
  },
  {
   "cell_type": "code",
   "execution_count": 103,
   "metadata": {},
   "outputs": [
    {
     "data": {
      "text/html": [
       "<div>\n",
       "<style scoped>\n",
       "    .dataframe tbody tr th:only-of-type {\n",
       "        vertical-align: middle;\n",
       "    }\n",
       "\n",
       "    .dataframe tbody tr th {\n",
       "        vertical-align: top;\n",
       "    }\n",
       "\n",
       "    .dataframe thead th {\n",
       "        text-align: right;\n",
       "    }\n",
       "</style>\n",
       "<table border=\"1\" class=\"dataframe\">\n",
       "  <thead>\n",
       "    <tr style=\"text-align: right;\">\n",
       "      <th></th>\n",
       "      <th>article</th>\n",
       "      <th>summary</th>\n",
       "      <th>topic</th>\n",
       "      <th>cluster_label</th>\n",
       "      <th>cluster_topic</th>\n",
       "    </tr>\n",
       "  </thead>\n",
       "  <tbody>\n",
       "    <tr>\n",
       "      <th>1</th>\n",
       "      <td>['u2s', 'desire', 'number', 'one', 'u2', 'thre...</td>\n",
       "      <td>['still', 'want', 'morethey', 'want', 'biggest...</td>\n",
       "      <td>entertainment</td>\n",
       "      <td>4</td>\n",
       "      <td>entertainment</td>\n",
       "    </tr>\n",
       "    <tr>\n",
       "      <th>4</th>\n",
       "      <td>['ocean', 'twelve', 'raid', 'box', 'office', '...</td>\n",
       "      <td>['ocean', 'twelve', 'crime', 'caper', 'sequel'...</td>\n",
       "      <td>entertainment</td>\n",
       "      <td>4</td>\n",
       "      <td>entertainment</td>\n",
       "    </tr>\n",
       "    <tr>\n",
       "      <th>7</th>\n",
       "      <td>['fockers', 'retain', 'film', 'chart', 'crown'...</td>\n",
       "      <td>['meet', 'fockers', 'also', 'broke', 'box', 'o...</td>\n",
       "      <td>entertainment</td>\n",
       "      <td>4</td>\n",
       "      <td>entertainment</td>\n",
       "    </tr>\n",
       "    <tr>\n",
       "      <th>8</th>\n",
       "      <td>['top', 'gig', 'award', 'scissor', 'sister', '...</td>\n",
       "      <td>['new', 'york', 'band', 'scissor', 'sister', '...</td>\n",
       "      <td>entertainment</td>\n",
       "      <td>4</td>\n",
       "      <td>entertainment</td>\n",
       "    </tr>\n",
       "    <tr>\n",
       "      <th>14</th>\n",
       "      <td>['sundance', 'honour', 'foreign', 'film', 'int...</td>\n",
       "      <td>['independent', 'film', 'festival', 'feature',...</td>\n",
       "      <td>entertainment</td>\n",
       "      <td>4</td>\n",
       "      <td>entertainment</td>\n",
       "    </tr>\n",
       "  </tbody>\n",
       "</table>\n",
       "</div>"
      ],
      "text/plain": [
       "                                              article  \\\n",
       "1   ['u2s', 'desire', 'number', 'one', 'u2', 'thre...   \n",
       "4   ['ocean', 'twelve', 'raid', 'box', 'office', '...   \n",
       "7   ['fockers', 'retain', 'film', 'chart', 'crown'...   \n",
       "8   ['top', 'gig', 'award', 'scissor', 'sister', '...   \n",
       "14  ['sundance', 'honour', 'foreign', 'film', 'int...   \n",
       "\n",
       "                                              summary          topic  \\\n",
       "1   ['still', 'want', 'morethey', 'want', 'biggest...  entertainment   \n",
       "4   ['ocean', 'twelve', 'crime', 'caper', 'sequel'...  entertainment   \n",
       "7   ['meet', 'fockers', 'also', 'broke', 'box', 'o...  entertainment   \n",
       "8   ['new', 'york', 'band', 'scissor', 'sister', '...  entertainment   \n",
       "14  ['independent', 'film', 'festival', 'feature',...  entertainment   \n",
       "\n",
       "    cluster_label  cluster_topic  \n",
       "1               4  entertainment  \n",
       "4               4  entertainment  \n",
       "7               4  entertainment  \n",
       "8               4  entertainment  \n",
       "14              4  entertainment  "
      ]
     },
     "execution_count": 103,
     "metadata": {},
     "output_type": "execute_result"
    }
   ],
   "source": [
    "df.head()"
   ]
  },
  {
   "cell_type": "code",
   "execution_count": 104,
   "metadata": {},
   "outputs": [
    {
     "name": "stdout",
     "output_type": "stream",
     "text": [
      "Logistic Regression:\n",
      "               precision    recall  f1-score   support\n",
      "\n",
      "     business       0.91      1.00      0.95        21\n",
      "entertainment       1.00      0.96      0.98        27\n",
      "     politics       1.00      0.94      0.97        17\n",
      "        sport       0.95      1.00      0.98        21\n",
      "         tech       1.00      0.95      0.97        19\n",
      "\n",
      "     accuracy                           0.97       105\n",
      "    macro avg       0.97      0.97      0.97       105\n",
      " weighted avg       0.97      0.97      0.97       105\n",
      "\n",
      "Decision Tree:\n",
      "               precision    recall  f1-score   support\n",
      "\n",
      "     business       0.67      0.86      0.75        21\n",
      "entertainment       0.95      0.74      0.83        27\n",
      "     politics       0.65      0.76      0.70        17\n",
      "        sport       0.86      0.86      0.86        21\n",
      "         tech       0.88      0.74      0.80        19\n",
      "\n",
      "     accuracy                           0.79       105\n",
      "    macro avg       0.80      0.79      0.79       105\n",
      " weighted avg       0.81      0.79      0.79       105\n",
      "\n",
      "Random Forest:\n",
      "               precision    recall  f1-score   support\n",
      "\n",
      "     business       0.84      1.00      0.91        21\n",
      "entertainment       1.00      0.78      0.88        27\n",
      "     politics       1.00      0.88      0.94        17\n",
      "        sport       0.81      1.00      0.89        21\n",
      "         tech       0.94      0.89      0.92        19\n",
      "\n",
      "     accuracy                           0.90       105\n",
      "    macro avg       0.92      0.91      0.91       105\n",
      " weighted avg       0.92      0.90      0.90       105\n",
      "\n"
     ]
    }
   ],
   "source": [
    "import pandas as pd\n",
    "from sklearn.linear_model import LogisticRegression\n",
    "from sklearn.model_selection import train_test_split\n",
    "from sklearn.tree import DecisionTreeClassifier\n",
    "from sklearn.ensemble import RandomForestClassifier\n",
    "from sklearn.metrics import accuracy_score, classification_report\n",
    "\n",
    "# load the training and test data into dataframes\n",
    "# extract the feature and target columns\n",
    "\n",
    "X = df[\"article\"]\n",
    "y = df[\"topic\"]\n",
    "\n",
    "# split the dataframe into training and test sets\n",
    "X_train, X_test, y_train, y_test = train_test_split(X, y, test_size=0.2, random_state=42)\n",
    "\n",
    "from sklearn.feature_extraction.text import CountVectorizer\n",
    "\n",
    "# convert the \"article\" column into a bag of words representation\n",
    "vectorizer = CountVectorizer()\n",
    "X_train = vectorizer.fit_transform(X_train)\n",
    "X_test = vectorizer.transform(X_test)\n",
    "\n",
    "# initialize the classifiers\n",
    "logistic_regression = LogisticRegression()\n",
    "decision_tree = DecisionTreeClassifier()\n",
    "random_forest = RandomForestClassifier()\n",
    "\n",
    "# train the classifiers on the training data\n",
    "logistic_regression.fit(X_train, y_train)\n",
    "decision_tree.fit(X_train, y_train)\n",
    "random_forest.fit(X_train, y_train)\n",
    "\n",
    "# make predictions on the test data\n",
    "y_pred_lr = logistic_regression.predict(X_test)\n",
    "y_pred_dt = decision_tree.predict(X_test)\n",
    "y_pred_rf = random_forest.predict(X_test)\n",
    "\n",
    "# evaluate the classifiers' performance\n",
    "print(\"Logistic Regression:\")\n",
    "print(classification_report(y_test, y_pred_lr))\n",
    "print(\"Decision Tree:\")\n",
    "print(classification_report(y_test, y_pred_dt))\n",
    "print(\"Random Forest:\")\n",
    "print(classification_report(y_test, y_pred_rf))"
   ]
  },
  {
   "cell_type": "code",
   "execution_count": 75,
   "metadata": {},
   "outputs": [
    {
     "data": {
      "image/png": "[encoded data removed]",
      "text/plain": [
       "<Figure size 640x480 with 1 Axes>"
      ]
     },
     "metadata": {},
     "output_type": "display_data"
    }
   ],
   "source": [
    "import matplotlib.pyplot as plt\n",
    "\n",
    "classifiers = ['Logistic Regression', 'Decision Tree', 'Random Forest']\n",
    "scores = [accuracy_score(y_test, y_pred_lr), accuracy_score(y_test, y_pred_dt), accuracy_score(y_test, y_pred_rf)]\n",
    "\n",
    "plt.bar(classifiers, scores)\n",
    "plt.ylabel('Accuracy')\n",
    "plt.title(\"Accuracy of Classifiers before parameter tuning\")\n",
    "plt.ylim(0,1) # set the y-axis limit to (0,1)\n",
    "\n",
    "# Add the accuracy percent as text on top of each bar\n",
    "for i, v in enumerate(scores):\n",
    "    plt.text(i-.25, v-.5, str(round(v*100,2))+\"%\", color='black', fontweight='bold')\n",
    "\n",
    "plt.show()"
   ]
  },
  {
   "cell_type": "code",
   "execution_count": 84,
   "metadata": {},
   "outputs": [
    {
     "name": "stderr",
     "output_type": "stream",
     "text": [
      "/opt/homebrew/lib/python3.10/site-packages/sklearn/model_selection/_validation.py:378: FitFailedWarning: \n",
      "20 fits failed out of a total of 40.\n",
      "The score on these train-test partitions for these parameters will be set to nan.\n",
      "If these failures are not expected, you can try to debug them by setting error_score='raise'.\n",
      "\n",
      "Below are more details about the failures:\n",
      "--------------------------------------------------------------------------------\n",
      "20 fits failed with the following error:\n",
      "Traceback (most recent call last):\n",
      "  File \"/opt/homebrew/lib/python3.10/site-packages/sklearn/model_selection/_validation.py\", line 686, in _fit_and_score\n",
      "    estimator.fit(X_train, y_train, **fit_params)\n",
      "  File \"/opt/homebrew/lib/python3.10/site-packages/sklearn/linear_model/_logistic.py\", line 1162, in fit\n",
      "    solver = _check_solver(self.solver, self.penalty, self.dual)\n",
      "  File \"/opt/homebrew/lib/python3.10/site-packages/sklearn/linear_model/_logistic.py\", line 54, in _check_solver\n",
      "    raise ValueError(\n",
      "ValueError: Solver lbfgs supports only 'l2' or 'none' penalties, got l1 penalty.\n",
      "\n",
      "  warnings.warn(some_fits_failed_message, FitFailedWarning)\n",
      "/opt/homebrew/lib/python3.10/site-packages/sklearn/model_selection/_search.py:953: UserWarning: One or more of the test scores are non-finite: [       nan 0.97339045        nan 0.97407304        nan 0.97543823\n",
      "        nan 0.97680342]\n",
      "  warnings.warn(\n"
     ]
    }
   ],
   "source": [
    "from sklearn.model_selection import GridSearchCV\n",
    "\n",
    "# initialize the classifiers\n",
    "logistic_regression = LogisticRegression()\n",
    "decision_tree = DecisionTreeClassifier()\n",
    "random_forest = RandomForestClassifier()\n",
    "\n",
    "# define the parameters to tune\n",
    "param_grid_lr = {'C': [0.1, 1, 10, 100], 'penalty': ['l1', 'l2']}\n",
    "param_grid_dt = {'max_depth': [1, 2, 3, 4, 5, 6, 7, 8, 9, 10]}\n",
    "param_grid_rf = {'n_estimators': [50, 100, 200], 'max_depth': [5, 10, 15, 20]}\n",
    "\n",
    "# tune the parameters with GridSearchCV\n",
    "grid_lr = GridSearchCV(logistic_regression, param_grid_lr, cv=5)\n",
    "grid_dt = GridSearchCV(decision_tree, param_grid_dt, cv=5)\n",
    "grid_rf = GridSearchCV(random_forest, param_grid_rf, cv=5)\n",
    "\n",
    "# train the classifiers on the training data\n",
    "grid_lr.fit(X_train, y_train)\n",
    "grid_dt.fit(X_train, y_train)\n",
    "grid_rf.fit(X_train, y_train)\n",
    "\n",
    "# make predictions on the test data\n",
    "y_pred_lr = grid_lr.predict(X_test)\n",
    "y_pred_dt = grid_dt.predict(X_test)\n",
    "y_pred_rf = grid_rf.predict(X_test)"
   ]
  },
  {
   "cell_type": "code",
   "execution_count": null,
   "metadata": {},
   "outputs": [
    {
     "data": {
      "image/png": "[encoded data removed]",
      "text/plain": [
       "<Figure size 640x480 with 1 Axes>"
      ]
     },
     "metadata": {},
     "output_type": "display_data"
    }
   ],
   "source": [
    "classifiers = ['Logistic Regression', 'Decision Tree', 'Random Forest']\n",
    "scores = [accuracy_score(y_test, y_pred_lr), accuracy_score(y_test, y_pred_dt), accuracy_score(y_test, y_pred_rf)]\n",
    "\n",
    "plt.bar(classifiers, scores)\n",
    "plt.ylabel('Accuracy')\n",
    "plt.title(\"Accuracy of Classifiers after grid search tuning\")\n",
    "plt.ylim(0,1) # set the y-axis limit to (0,1)\n",
    "\n",
    "# Add the accuracy percent as text on top of each bar\n",
    "for i, v in enumerate(scores):\n",
    "    plt.text(i-.25, v-.5, str(round(v*100,2))+\"%\", color='black', fontweight='bold')\n",
    "\n",
    "plt.show()"
   ]
  },
  {
   "cell_type": "code",
   "execution_count": null,
   "metadata": {},
   "outputs": [
    {
     "name": "stdout",
     "output_type": "stream",
     "text": [
      "Naive Bayes:\n",
      "               precision    recall  f1-score   support\n",
      "\n",
      "     business       0.98      0.96      0.97       103\n",
      "entertainment       1.00      0.96      0.98        84\n",
      "     politics       0.95      0.99      0.97        80\n",
      "        sport       1.00      0.99      0.99        98\n",
      "         tech       0.96      1.00      0.98        80\n",
      "\n",
      "     accuracy                           0.98       445\n",
      "    macro avg       0.98      0.98      0.98       445\n",
      " weighted avg       0.98      0.98      0.98       445\n",
      "\n",
      "SVM:\n",
      "               precision    recall  f1-score   support\n",
      "\n",
      "     business       0.95      0.94      0.95       103\n",
      "entertainment       1.00      0.90      0.95        84\n",
      "     politics       0.92      0.97      0.95        80\n",
      "        sport       1.00      0.97      0.98        98\n",
      "         tech       0.90      0.97      0.93        80\n",
      "\n",
      "     accuracy                           0.95       445\n",
      "    macro avg       0.95      0.95      0.95       445\n",
      " weighted avg       0.96      0.95      0.95       445\n",
      "\n"
     ]
    }
   ],
   "source": [
    "from sklearn.naive_bayes import MultinomialNB\n",
    "from sklearn.svm import SVC\n",
    "\n",
    "\n",
    "# load the training and test data into dataframes\n",
    "# extract the feature and target columns\n",
    "X = df[\"article\"]\n",
    "y = df[\"topic\"]\n",
    "\n",
    "# split the dataframe into training and test sets\n",
    "X_train, X_test, y_train, y_test = train_test_split(X, y, test_size=0.2, random_state=42)\n",
    "\n",
    "from sklearn.feature_extraction.text import CountVectorizer\n",
    "\n",
    "# convert the \"article\" column into a bag of words representation\n",
    "vectorizer = CountVectorizer()\n",
    "X_train = vectorizer.fit_transform(X_train)\n",
    "X_test = vectorizer.transform(X_test)\n",
    "\n",
    "# initialize the classifiers\n",
    "naive_bayes = MultinomialNB()\n",
    "svm = SVC()\n",
    "\n",
    "\n",
    "# train the classifiers on the training data\n",
    "naive_bayes.fit(X_train, y_train)\n",
    "svm.fit(X_train, y_train)\n",
    "\n",
    "\n",
    "# make predictions on the test data\n",
    "y_pred_nb = naive_bayes.predict(X_test)\n",
    "y_pred_svm = svm.predict(X_test)\n",
    "\n",
    "\n",
    "# evaluate the classifiers' performance\n",
    "print(\"Naive Bayes:\")\n",
    "print(classification_report(y_test, y_pred_nb))\n",
    "print(\"SVM:\")\n",
    "print(classification_report(y_test, y_pred_svm))\n"
   ]
  },
  {
   "cell_type": "code",
   "execution_count": null,
   "metadata": {},
   "outputs": [
    {
     "data": {
      "image/png": "[encoded data removed]",
      "text/plain": [
       "<Figure size 640x480 with 1 Axes>"
      ]
     },
     "metadata": {},
     "output_type": "display_data"
    }
   ],
   "source": [
    "classifiers = ['Naive Bayes', 'SVM']\n",
    "scores = [accuracy_score(y_test, y_pred_nb), accuracy_score(y_test, y_pred_svm)]\n",
    "\n",
    "plt.bar(classifiers, scores)\n",
    "plt.ylabel('Accuracy')\n",
    "plt.title(\"Accuracy of Classifiers after grid search tuning\")\n",
    "plt.ylim(0,1) # set the y-axis limit to (0,1)\n",
    "\n",
    "# Add the accuracy percent as text on top of each bar\n",
    "for i, v in enumerate(scores):\n",
    "    plt.text(i-.25, v-.5, str(round(v*100,2))+\"%\", color='black', fontweight='bold')\n",
    "\n",
    "plt.show()"
   ]
  },
  {
   "attachments": {},
   "cell_type": "markdown",
   "metadata": {},
   "source": [
    "### summarization"
   ]
  },
  {
   "cell_type": "code",
   "execution_count": null,
   "metadata": {},
   "outputs": [
    {
     "ename": "ValueError",
     "evalue": "You appear to be using a legacy multi-label data representation. Sequence of sequences are no longer supported; use a binary array or sparse matrix instead - the MultiLabelBinarizer transformer can convert to this format.",
     "output_type": "error",
     "traceback": [
      "\u001b[0;31m---------------------------------------------------------------------------\u001b[0m",
      "\u001b[0;31mValueError\u001b[0m                                Traceback (most recent call last)",
      "Cell \u001b[0;32mIn [57], line 17\u001b[0m\n\u001b[1;32m     15\u001b[0m \u001b[39m# Train a linear SVM model\u001b[39;00m\n\u001b[1;32m     16\u001b[0m clf \u001b[39m=\u001b[39m LinearSVC()\n\u001b[0;32m---> 17\u001b[0m clf\u001b[39m.\u001b[39;49mfit(X_train, y_train)\n\u001b[1;32m     19\u001b[0m \u001b[39m# Make predictions on the test set\u001b[39;00m\n\u001b[1;32m     20\u001b[0m y_pred \u001b[39m=\u001b[39m clf\u001b[39m.\u001b[39mpredict(X_test)\n",
      "File \u001b[0;32m/opt/homebrew/lib/python3.10/site-packages/sklearn/svm/_classes.py:271\u001b[0m, in \u001b[0;36mLinearSVC.fit\u001b[0;34m(self, X, y, sample_weight)\u001b[0m\n\u001b[1;32m    261\u001b[0m \u001b[39mself\u001b[39m\u001b[39m.\u001b[39m_validate_params()\n\u001b[1;32m    263\u001b[0m X, y \u001b[39m=\u001b[39m \u001b[39mself\u001b[39m\u001b[39m.\u001b[39m_validate_data(\n\u001b[1;32m    264\u001b[0m     X,\n\u001b[1;32m    265\u001b[0m     y,\n\u001b[0;32m   (...)\u001b[0m\n\u001b[1;32m    269\u001b[0m     accept_large_sparse\u001b[39m=\u001b[39m\u001b[39mFalse\u001b[39;00m,\n\u001b[1;32m    270\u001b[0m )\n\u001b[0;32m--> 271\u001b[0m check_classification_targets(y)\n\u001b[1;32m    272\u001b[0m \u001b[39mself\u001b[39m\u001b[39m.\u001b[39mclasses_ \u001b[39m=\u001b[39m np\u001b[39m.\u001b[39munique(y)\n\u001b[1;32m    274\u001b[0m \u001b[39mself\u001b[39m\u001b[39m.\u001b[39mcoef_, \u001b[39mself\u001b[39m\u001b[39m.\u001b[39mintercept_, n_iter_ \u001b[39m=\u001b[39m _fit_liblinear(\n\u001b[1;32m    275\u001b[0m     X,\n\u001b[1;32m    276\u001b[0m     y,\n\u001b[0;32m   (...)\u001b[0m\n\u001b[1;32m    289\u001b[0m     sample_weight\u001b[39m=\u001b[39msample_weight,\n\u001b[1;32m    290\u001b[0m )\n",
      "File \u001b[0;32m/opt/homebrew/lib/python3.10/site-packages/sklearn/utils/multiclass.py:199\u001b[0m, in \u001b[0;36mcheck_classification_targets\u001b[0;34m(y)\u001b[0m\n\u001b[1;32m    187\u001b[0m \u001b[39mdef\u001b[39;00m \u001b[39mcheck_classification_targets\u001b[39m(y):\n\u001b[1;32m    188\u001b[0m     \u001b[39m\"\"\"Ensure that target y is of a non-regression type.\u001b[39;00m\n\u001b[1;32m    189\u001b[0m \n\u001b[1;32m    190\u001b[0m \u001b[39m    Only the following target types (as defined in type_of_target) are allowed:\u001b[39;00m\n\u001b[0;32m   (...)\u001b[0m\n\u001b[1;32m    197\u001b[0m \u001b[39m        Target values.\u001b[39;00m\n\u001b[1;32m    198\u001b[0m \u001b[39m    \"\"\"\u001b[39;00m\n\u001b[0;32m--> 199\u001b[0m     y_type \u001b[39m=\u001b[39m type_of_target(y, input_name\u001b[39m=\u001b[39;49m\u001b[39m\"\u001b[39;49m\u001b[39my\u001b[39;49m\u001b[39m\"\u001b[39;49m)\n\u001b[1;32m    200\u001b[0m     \u001b[39mif\u001b[39;00m y_type \u001b[39mnot\u001b[39;00m \u001b[39min\u001b[39;00m [\n\u001b[1;32m    201\u001b[0m         \u001b[39m\"\u001b[39m\u001b[39mbinary\u001b[39m\u001b[39m\"\u001b[39m,\n\u001b[1;32m    202\u001b[0m         \u001b[39m\"\u001b[39m\u001b[39mmulticlass\u001b[39m\u001b[39m\"\u001b[39m,\n\u001b[0;32m   (...)\u001b[0m\n\u001b[1;32m    205\u001b[0m         \u001b[39m\"\u001b[39m\u001b[39mmultilabel-sequences\u001b[39m\u001b[39m\"\u001b[39m,\n\u001b[1;32m    206\u001b[0m     ]:\n\u001b[1;32m    207\u001b[0m         \u001b[39mraise\u001b[39;00m \u001b[39mValueError\u001b[39;00m(\u001b[39m\"\u001b[39m\u001b[39mUnknown label type: \u001b[39m\u001b[39m%r\u001b[39;00m\u001b[39m\"\u001b[39m \u001b[39m%\u001b[39m y_type)\n",
      "File \u001b[0;32m/opt/homebrew/lib/python3.10/site-packages/sklearn/utils/multiclass.py:322\u001b[0m, in \u001b[0;36mtype_of_target\u001b[0;34m(y, input_name)\u001b[0m\n\u001b[1;32m    316\u001b[0m \u001b[39mtry\u001b[39;00m:\n\u001b[1;32m    317\u001b[0m     \u001b[39mif\u001b[39;00m (\n\u001b[1;32m    318\u001b[0m         \u001b[39mnot\u001b[39;00m \u001b[39mhasattr\u001b[39m(y[\u001b[39m0\u001b[39m], \u001b[39m\"\u001b[39m\u001b[39m__array__\u001b[39m\u001b[39m\"\u001b[39m)\n\u001b[1;32m    319\u001b[0m         \u001b[39mand\u001b[39;00m \u001b[39misinstance\u001b[39m(y[\u001b[39m0\u001b[39m], Sequence)\n\u001b[1;32m    320\u001b[0m         \u001b[39mand\u001b[39;00m \u001b[39mnot\u001b[39;00m \u001b[39misinstance\u001b[39m(y[\u001b[39m0\u001b[39m], \u001b[39mstr\u001b[39m)\n\u001b[1;32m    321\u001b[0m     ):\n\u001b[0;32m--> 322\u001b[0m         \u001b[39mraise\u001b[39;00m \u001b[39mValueError\u001b[39;00m(\n\u001b[1;32m    323\u001b[0m             \u001b[39m\"\u001b[39m\u001b[39mYou appear to be using a legacy multi-label data\u001b[39m\u001b[39m\"\u001b[39m\n\u001b[1;32m    324\u001b[0m             \u001b[39m\"\u001b[39m\u001b[39m representation. Sequence of sequences are no\u001b[39m\u001b[39m\"\u001b[39m\n\u001b[1;32m    325\u001b[0m             \u001b[39m\"\u001b[39m\u001b[39m longer supported; use a binary array or sparse\u001b[39m\u001b[39m\"\u001b[39m\n\u001b[1;32m    326\u001b[0m             \u001b[39m\"\u001b[39m\u001b[39m matrix instead - the MultiLabelBinarizer\u001b[39m\u001b[39m\"\u001b[39m\n\u001b[1;32m    327\u001b[0m             \u001b[39m\"\u001b[39m\u001b[39m transformer can convert to this format.\u001b[39m\u001b[39m\"\u001b[39m\n\u001b[1;32m    328\u001b[0m         )\n\u001b[1;32m    329\u001b[0m \u001b[39mexcept\u001b[39;00m \u001b[39mIndexError\u001b[39;00m:\n\u001b[1;32m    330\u001b[0m     \u001b[39mpass\u001b[39;00m\n",
      "\u001b[0;31mValueError\u001b[0m: You appear to be using a legacy multi-label data representation. Sequence of sequences are no longer supported; use a binary array or sparse matrix instead - the MultiLabelBinarizer transformer can convert to this format."
     ]
    }
   ],
   "source": [
    "import pandas as pd\n",
    "from sklearn.model_selection import train_test_split\n",
    "from sklearn.feature_extraction.text import TfidfVectorizer\n",
    "from sklearn.svm import LinearSVC\n",
    "from sklearn.metrics import accuracy_score, classification_report\n",
    "\n",
    "# Split the dataset into training and test sets\n",
    "X_train, X_test, y_train, y_test = train_test_split(df['article'], df['summary'], test_size=0.2, random_state=42)\n",
    "\n",
    "# Vectorize the articles using TF-IDF\n",
    "tfidf = TfidfVectorizer()\n",
    "X_train = tfidf.fit_transform(X_train)\n",
    "X_test = tfidf.transform(X_test)\n",
    "\n",
    "# Train a linear SVM model\n",
    "clf = LinearSVC()\n",
    "clf.fit(X_train, y_train)\n",
    "\n",
    "# Make predictions on the test set\n",
    "y_pred = clf.predict(X_test)\n",
    "\n",
    "# Evaluate the model's performance\n",
    "accuracy = accuracy_score(y_test, y_pred)\n",
    "print(\"Accuracy: {:.2f}%\".format(accuracy*100))\n",
    "#print(classification_report(y_test, y_pred))"
   ]
  },
  {
   "cell_type": "code",
   "execution_count": null,
   "metadata": {},
   "outputs": [
    {
     "name": "stdout",
     "output_type": "stream",
     "text": [
      "[\"['apple', 'said', 'new', 'itunes', 'music', 'player', 'would', 'become', 'motorolas', 'standard', 'music', 'application', 'music', 'phonesthird', 'generation', 'mobile', '3g', 'ability', 'handle', 'large', 'amount', 'data', 'transfer', 'like', 'video', 'could', 'drive', 'people', 'upgrading', 'phone', 'm', 'milanesi', 'said', 'difficult', 'say', 'quickly', 'would', 'happengood', 'design', 'look', 'mobile', 'well', 'new', 'service', 'music', 'downloads', 'could', 'go', 'way', 'pushing', 'sale', '2005', 'said', 'analystsin', 'july', 'last', 'year', 'motorola', 'apple', 'announced', 'version', 'itunes', 'online', 'music', 'downloading', 'service', 'would', 'released', 'would', 'compatible', 'motorola', 'mobile', 'phonesbut', 'challenge', 'balancing', 'storage', 'capacity', 'battery', 'life', 'mobile', 'music', 'hope', 'compete', 'digital', 'music', 'player', 'like', 'ipodsony', 'ericsson', 'released', 'walkman', 'branded', 'mobile', 'phone', 'w800', 'combine', 'digital', 'music', 'player', '30', 'hour', 'battery', 'life', 'two', 'megapixel', 'camerathis', 'mean', 'mobile', 'company', 'think', 'carefully', 'offering', 'new', 'model', 'people', 'see', 'compelling', 'reason', 'upgrade', 'said', 'gartnerit', 'phone', 'functioned', 'said', 'ownerbut', 'could', 'slight', 'slowdown', 'sale', 'european', 'u', 'market', 'according', 'gartner', 'people', 'wait', 'see', 'come', 'next', 'mobile', 'technologynor', 'would', 'rush', 'produce', 'two', 'three', 'megapixel', 'camera', 'phone', 'reason', 'mobile', 'owner', 'upgrade', 'ownms', 'milanesi', 'said', 'model', 'would', 'likely', 'released', 'coming', 'year', 'hard', 'drivesmore', 'likely', 'drive', 'sale', '2005', 'would', 'attention', 'design', 'aesthetic', 'well', 'music', 'service']\"]\n"
     ]
    }
   ],
   "source": [
    "import pandas as pd\n",
    "from sklearn.feature_extraction.text import TfidfVectorizer\n",
    "from sklearn.pipeline import Pipeline\n",
    "from sklearn.decomposition import TruncatedSVD\n",
    "from sklearn.linear_model import LogisticRegression\n",
    "\n",
    "# Load the dataset\n",
    "data = pd.read_csv(\"preprocessed_df.csv\", encoding = \"ISO-8859-1\")\n",
    "\n",
    "# Define the feature extraction and model training pipeline\n",
    "pipeline = Pipeline([\n",
    "    ('tfidf', TfidfVectorizer()), # Extract features using tf-idf\n",
    "    ('svd', TruncatedSVD()), # Reduce dimensionality of features\n",
    "    ('lr', LogisticRegression()) # Train the model using Logistic Regression\n",
    "])\n",
    "\n",
    "# Fit the pipeline to the data\n",
    "pipeline.fit(data['article'], data['summary'])\n",
    "\n",
    "# Test the model\n",
    "with open('401.txt', 'rb') as f:\n",
    "    test_article = f.read()\n",
    "    #test_article = str(test_article)\n",
    "    #test_article = preprocess(test_article)\n",
    "    #test_article = ' '.join(test_article)\n",
    "    \n",
    "predicted_summary = pipeline.predict([test_article])\n",
    "print(predicted_summary)"
   ]
  },
  {
   "cell_type": "code",
   "execution_count": null,
   "metadata": {},
   "outputs": [
    {
     "name": "stdout",
     "output_type": "stream",
     "text": [
      "Epoch 1/5\n",
      "56/56 [==============================] - 121s 2s/step - loss: 0.4411 - accuracy: 0.0000e+00\n",
      "Epoch 2/5\n",
      "56/56 [==============================] - 117s 2s/step - loss: 0.0932 - accuracy: 5.6180e-04\n",
      "Epoch 3/5\n",
      "56/56 [==============================] - 118s 2s/step - loss: 0.0434 - accuracy: 0.0000e+00\n",
      "Epoch 4/5\n",
      "56/56 [==============================] - 118s 2s/step - loss: 0.0280 - accuracy: 0.0011\n",
      "Epoch 5/5\n",
      "56/56 [==============================] - 119s 2s/step - loss: 0.0202 - accuracy: 5.6180e-04\n",
      "14/14 [==============================] - 6s 414ms/step\n"
     ]
    },
    {
     "ename": "ValueError",
     "evalue": "Classification metrics can't handle a mix of multilabel-indicator and binary targets",
     "output_type": "error",
     "traceback": [
      "\u001b[0;31m---------------------------------------------------------------------------\u001b[0m",
      "\u001b[0;31mValueError\u001b[0m                                Traceback (most recent call last)",
      "Cell \u001b[0;32mIn [7], line 61\u001b[0m\n\u001b[1;32m     58\u001b[0m y_pred \u001b[39m=\u001b[39m [np\u001b[39m.\u001b[39margmax(i) \u001b[39mfor\u001b[39;00m i \u001b[39min\u001b[39;00m y_pred]\n\u001b[1;32m     60\u001b[0m \u001b[39m# Evaluate the model's performance\u001b[39;00m\n\u001b[0;32m---> 61\u001b[0m precision \u001b[39m=\u001b[39m precision_score(y_test, y_pred)\n\u001b[1;32m     62\u001b[0m \u001b[39mprint\u001b[39m(\u001b[39m\"\u001b[39m\u001b[39mPrecision: \u001b[39m\u001b[39m{:.2f}\u001b[39;00m\u001b[39m%\u001b[39m\u001b[39m\"\u001b[39m\u001b[39m.\u001b[39mformat(precision\u001b[39m*\u001b[39m\u001b[39m100\u001b[39m))\n\u001b[1;32m     63\u001b[0m \u001b[39mprint\u001b[39m(classification_report(y_test, y_pred))\n",
      "File \u001b[0;32m/opt/homebrew/lib/python3.10/site-packages/sklearn/metrics/_classification.py:1954\u001b[0m, in \u001b[0;36mprecision_score\u001b[0;34m(y_true, y_pred, labels, pos_label, average, sample_weight, zero_division)\u001b[0m\n\u001b[1;32m   1825\u001b[0m \u001b[39mdef\u001b[39;00m \u001b[39mprecision_score\u001b[39m(\n\u001b[1;32m   1826\u001b[0m     y_true,\n\u001b[1;32m   1827\u001b[0m     y_pred,\n\u001b[0;32m   (...)\u001b[0m\n\u001b[1;32m   1833\u001b[0m     zero_division\u001b[39m=\u001b[39m\u001b[39m\"\u001b[39m\u001b[39mwarn\u001b[39m\u001b[39m\"\u001b[39m,\n\u001b[1;32m   1834\u001b[0m ):\n\u001b[1;32m   1835\u001b[0m     \u001b[39m\"\"\"Compute the precision.\u001b[39;00m\n\u001b[1;32m   1836\u001b[0m \n\u001b[1;32m   1837\u001b[0m \u001b[39m    The precision is the ratio ``tp / (tp + fp)`` where ``tp`` is the number of\u001b[39;00m\n\u001b[0;32m   (...)\u001b[0m\n\u001b[1;32m   1952\u001b[0m \u001b[39m    array([0.5, 1. , 1. ])\u001b[39;00m\n\u001b[1;32m   1953\u001b[0m \u001b[39m    \"\"\"\u001b[39;00m\n\u001b[0;32m-> 1954\u001b[0m     p, _, _, _ \u001b[39m=\u001b[39m precision_recall_fscore_support(\n\u001b[1;32m   1955\u001b[0m         y_true,\n\u001b[1;32m   1956\u001b[0m         y_pred,\n\u001b[1;32m   1957\u001b[0m         labels\u001b[39m=\u001b[39;49mlabels,\n\u001b[1;32m   1958\u001b[0m         pos_label\u001b[39m=\u001b[39;49mpos_label,\n\u001b[1;32m   1959\u001b[0m         average\u001b[39m=\u001b[39;49maverage,\n\u001b[1;32m   1960\u001b[0m         warn_for\u001b[39m=\u001b[39;49m(\u001b[39m\"\u001b[39;49m\u001b[39mprecision\u001b[39;49m\u001b[39m\"\u001b[39;49m,),\n\u001b[1;32m   1961\u001b[0m         sample_weight\u001b[39m=\u001b[39;49msample_weight,\n\u001b[1;32m   1962\u001b[0m         zero_division\u001b[39m=\u001b[39;49mzero_division,\n\u001b[1;32m   1963\u001b[0m     )\n\u001b[1;32m   1964\u001b[0m     \u001b[39mreturn\u001b[39;00m p\n",
      "File \u001b[0;32m/opt/homebrew/lib/python3.10/site-packages/sklearn/metrics/_classification.py:1573\u001b[0m, in \u001b[0;36mprecision_recall_fscore_support\u001b[0;34m(y_true, y_pred, beta, labels, pos_label, average, warn_for, sample_weight, zero_division)\u001b[0m\n\u001b[1;32m   1571\u001b[0m \u001b[39mif\u001b[39;00m beta \u001b[39m<\u001b[39m \u001b[39m0\u001b[39m:\n\u001b[1;32m   1572\u001b[0m     \u001b[39mraise\u001b[39;00m \u001b[39mValueError\u001b[39;00m(\u001b[39m\"\u001b[39m\u001b[39mbeta should be >=0 in the F-beta score\u001b[39m\u001b[39m\"\u001b[39m)\n\u001b[0;32m-> 1573\u001b[0m labels \u001b[39m=\u001b[39m _check_set_wise_labels(y_true, y_pred, average, labels, pos_label)\n\u001b[1;32m   1575\u001b[0m \u001b[39m# Calculate tp_sum, pred_sum, true_sum ###\u001b[39;00m\n\u001b[1;32m   1576\u001b[0m samplewise \u001b[39m=\u001b[39m average \u001b[39m==\u001b[39m \u001b[39m\"\u001b[39m\u001b[39msamples\u001b[39m\u001b[39m\"\u001b[39m\n",
      "File \u001b[0;32m/opt/homebrew/lib/python3.10/site-packages/sklearn/metrics/_classification.py:1374\u001b[0m, in \u001b[0;36m_check_set_wise_labels\u001b[0;34m(y_true, y_pred, average, labels, pos_label)\u001b[0m\n\u001b[1;32m   1371\u001b[0m \u001b[39mif\u001b[39;00m average \u001b[39mnot\u001b[39;00m \u001b[39min\u001b[39;00m average_options \u001b[39mand\u001b[39;00m average \u001b[39m!=\u001b[39m \u001b[39m\"\u001b[39m\u001b[39mbinary\u001b[39m\u001b[39m\"\u001b[39m:\n\u001b[1;32m   1372\u001b[0m     \u001b[39mraise\u001b[39;00m \u001b[39mValueError\u001b[39;00m(\u001b[39m\"\u001b[39m\u001b[39maverage has to be one of \u001b[39m\u001b[39m\"\u001b[39m \u001b[39m+\u001b[39m \u001b[39mstr\u001b[39m(average_options))\n\u001b[0;32m-> 1374\u001b[0m y_type, y_true, y_pred \u001b[39m=\u001b[39m _check_targets(y_true, y_pred)\n\u001b[1;32m   1375\u001b[0m \u001b[39m# Convert to Python primitive type to avoid NumPy type / Python str\u001b[39;00m\n\u001b[1;32m   1376\u001b[0m \u001b[39m# comparison. See https://github.com/numpy/numpy/issues/6784\u001b[39;00m\n\u001b[1;32m   1377\u001b[0m present_labels \u001b[39m=\u001b[39m unique_labels(y_true, y_pred)\u001b[39m.\u001b[39mtolist()\n",
      "File \u001b[0;32m/opt/homebrew/lib/python3.10/site-packages/sklearn/metrics/_classification.py:95\u001b[0m, in \u001b[0;36m_check_targets\u001b[0;34m(y_true, y_pred)\u001b[0m\n\u001b[1;32m     92\u001b[0m     y_type \u001b[39m=\u001b[39m {\u001b[39m\"\u001b[39m\u001b[39mmulticlass\u001b[39m\u001b[39m\"\u001b[39m}\n\u001b[1;32m     94\u001b[0m \u001b[39mif\u001b[39;00m \u001b[39mlen\u001b[39m(y_type) \u001b[39m>\u001b[39m \u001b[39m1\u001b[39m:\n\u001b[0;32m---> 95\u001b[0m     \u001b[39mraise\u001b[39;00m \u001b[39mValueError\u001b[39;00m(\n\u001b[1;32m     96\u001b[0m         \u001b[39m\"\u001b[39m\u001b[39mClassification metrics can\u001b[39m\u001b[39m'\u001b[39m\u001b[39mt handle a mix of \u001b[39m\u001b[39m{0}\u001b[39;00m\u001b[39m and \u001b[39m\u001b[39m{1}\u001b[39;00m\u001b[39m targets\u001b[39m\u001b[39m\"\u001b[39m\u001b[39m.\u001b[39mformat(\n\u001b[1;32m     97\u001b[0m             type_true, type_pred\n\u001b[1;32m     98\u001b[0m         )\n\u001b[1;32m     99\u001b[0m     )\n\u001b[1;32m    101\u001b[0m \u001b[39m# We can't have more than one value on y_type => The set is no more needed\u001b[39;00m\n\u001b[1;32m    102\u001b[0m y_type \u001b[39m=\u001b[39m y_type\u001b[39m.\u001b[39mpop()\n",
      "\u001b[0;31mValueError\u001b[0m: Classification metrics can't handle a mix of multilabel-indicator and binary targets"
     ]
    }
   ],
   "source": [
    "import numpy as np\n",
    "import pandas as pd\n",
    "from sklearn.model_selection import train_test_split\n",
    "from sklearn.preprocessing import LabelEncoder\n",
    "from keras.preprocessing.text import Tokenizer\n",
    "from keras.utils import to_categorical\n",
    "from keras.layers import Embedding, LSTM, Dense, Dropout\n",
    "from keras.models import Sequential\n",
    "from sklearn.metrics import precision_score, classification_report\n",
    "\n",
    "df = pd.read_csv(\"preprocessed_df.csv\", encoding = \"ISO-8859-1\")\n",
    "\n",
    "# Split the dataset into training and test sets\n",
    "X_train, X_test, y_train, y_test = train_test_split(df['article'], df['summary'], test_size=0.2, random_state=42)\n",
    "\n",
    "# Initialize the label encoder\n",
    "le = LabelEncoder()\n",
    "\n",
    "# Fit the label encoder on the training labels\n",
    "le.fit(df['summary'])\n",
    "\n",
    "# Transform the training and test labels\n",
    "y_train = le.transform(y_train)\n",
    "y_test = le.transform(y_test)\n",
    "\n",
    "# Tokenize the articles\n",
    "tokenizer = Tokenizer()\n",
    "tokenizer.fit_on_texts(X_train)\n",
    "X_train = tokenizer.texts_to_sequences(X_train)\n",
    "X_test = tokenizer.texts_to_sequences(X_test)\n",
    "\n",
    "# Pad the sequences to the same length\n",
    "max_length = max([len(i) for i in X_train])\n",
    "X_train = pad_sequences(X_train, maxlen=max_length, padding='post')\n",
    "X_test = pad_sequences(X_test, maxlen=max_length, padding='post')\n",
    "\n",
    "# one hot encoded y_train and y_test\n",
    "y_train = to_categorical(y_train)\n",
    "y_test = to_categorical(y_test)\n",
    "\n",
    "# Build the model\n",
    "model = Sequential()\n",
    "model.add(Embedding(input_dim=len(tokenizer.word_index) + 1, output_dim=100, input_length=max_length))\n",
    "model.add(LSTM(units=64, return_sequences=True))\n",
    "model.add(Dropout(0.2))\n",
    "model.add(LSTM(units=32))\n",
    "model.add(Dropout(0.2))\n",
    "model.add(Dense(units=len(le.classes_), activation='softmax'))\n",
    "\n",
    "# Compile the model\n",
    "model.compile(optimizer='adam', loss='binary_crossentropy', metrics=['accuracy'])\n",
    "\n",
    "# Train the model\n",
    "model.fit(X_train, y_train, epochs=5, batch_size=32)\n",
    "\n",
    "# Make predictions on the test set\n",
    "y_pred = model.predict(X_test)\n",
    "y_pred = [np.argmax(i) for i in y_pred]\n",
    "\n",
    "# Evaluate the model's performance\n",
    "precision = precision_score(y_test, y_pred)\n",
    "print(\"Precision: {:.2f}%\".format(precision*100))\n",
    "print(classification_report(y_test, y_pred))"
   ]
  }
 ],
 "metadata": {
  "kernelspec": {
   "display_name": "Python 3",
   "language": "python",
   "name": "python3"
  },
  "language_info": {
   "codemirror_mode": {
    "name": "ipython",
    "version": 3
   },
   "file_extension": ".py",
   "mimetype": "text/x-python",
   "name": "python",
   "nbconvert_exporter": "python",
   "pygments_lexer": "ipython3",
   "version": "3.10.8"
  },
  "orig_nbformat": 4,
  "vscode": {
   "interpreter": {
    "hash": "b0fa6594d8f4cbf19f97940f81e996739fb7646882a419484c72d19e05852a7e"
   }
  }
 },
 "nbformat": 4,
 "nbformat_minor": 2
}
